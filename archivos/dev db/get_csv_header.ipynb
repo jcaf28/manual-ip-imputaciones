{
 "cells": [
  {
   "cell_type": "code",
   "execution_count": 50,
   "metadata": {},
   "outputs": [],
   "source": [
    "# import pandas as pd\n",
    "\n",
    "# # Cargar el archivo Excel\n",
    "# df = pd.read_excel(\"descarga_programa_informatico.xlsx\")\n",
    "\n",
    "# # Guardar como CSV en UTF-8\n",
    "# df.head(10).to_csv(\"./csv_headers/descarga_programa_informatico_header.csv\", index=False, encoding=\"utf-8\")"
   ]
  },
  {
   "cell_type": "code",
   "execution_count": 51,
   "metadata": {},
   "outputs": [],
   "source": [
    "import pandas as pd\n",
    "\n",
    "# Cargar el archivo Excel\n",
    "df = pd.read_excel(\"descarga_programa_informatico.xlsx\")\n",
    "\n",
    "# Seleccionar las primeras 10 líneas y guardar como CSV en UTF-8 con BOM (Byte order Mark, cabecera que indica a las aplicaciones el encoding del archivo)\n",
    "df.head(10).to_csv(\"./csv_headers/descarga_programa_informatico_header.csv\", index=False, encoding=\"utf-8-sig\")\n"
   ]
  },
  {
   "cell_type": "code",
   "execution_count": 52,
   "metadata": {},
   "outputs": [],
   "source": [
    "import pandas as pd\n",
    "\n",
    "# Cargar el archivo Excel\n",
    "df = pd.read_excel(\"Listado usuarios IP.xlsx\")\n",
    "\n",
    "# Seleccionar las primeras 10 líneas y guardar como CSV en UTF-8 con BOM (Byte order Mark, cabecera que indica a las aplicaciones el encoding del archivo)\n",
    "df.head(10).to_csv(\"./csv_headers/Listado usuarios IP_header.csv\", index=False, encoding=\"utf-8-sig\")"
   ]
  },
  {
   "cell_type": "code",
   "execution_count": 53,
   "metadata": {},
   "outputs": [],
   "source": [
    "import pandas as pd\n",
    "\n",
    "# Cargar el archivo Excel\n",
    "df = pd.read_excel(\"CATs PROCESOS (1).xlsx\")\n",
    "\n",
    "# Seleccionar las primeras 10 líneas y guardar como CSV en UTF-8 con BOM (Byte order Mark, cabecera que indica a las aplicaciones el encoding del archivo)\n",
    "df.head(10).to_csv(\"./csv_headers/CATs PROCESOS (1)_header.csv\", index=False, encoding=\"utf-8-sig\")"
   ]
  },
  {
   "cell_type": "code",
   "execution_count": 54,
   "metadata": {},
   "outputs": [],
   "source": [
    "import pandas as pd\n",
    "\n",
    "# Cargar el archivo Excel\n",
    "df = pd.read_excel(\"WBS por clave.xlsx\")\n",
    "\n",
    "# Seleccionar las primeras 10 líneas y guardar como CSV en UTF-8 con BOM (Byte order Mark, cabecera que indica a las aplicaciones el encoding del archivo)\n",
    "df.head(10).to_csv(\"./csv_headers/WBS por clave_header.csv\", index=False, encoding=\"utf-8-sig\")"
   ]
  },
  {
   "cell_type": "code",
   "execution_count": 55,
   "metadata": {},
   "outputs": [],
   "source": [
    "import pandas as pd\n",
    "\n",
    "# Cargar el archivo Excel\n",
    "df = pd.read_excel(\"Informe de gestión de tiempos (0) (1).xlsx\")\n",
    "\n",
    "# Seleccionar las primeras 10 líneas y guardar como CSV en UTF-8 con BOM (Byte order Mark, cabecera que indica a las aplicaciones el encoding del archivo)\n",
    "df.head(10).to_csv(\"./csv_headers/Informe de gestión de tiempos (0) (1)_header.csv\", index=False, encoding=\"utf-8-sig\")"
   ]
  }
 ],
 "metadata": {
  "kernelspec": {
   "display_name": "Python 3",
   "language": "python",
   "name": "python3"
  },
  "language_info": {
   "codemirror_mode": {
    "name": "ipython",
    "version": 3
   },
   "file_extension": ".py",
   "mimetype": "text/x-python",
   "name": "python",
   "nbconvert_exporter": "python",
   "pygments_lexer": "ipython3",
   "version": "3.11.5"
  }
 },
 "nbformat": 4,
 "nbformat_minor": 2
}
